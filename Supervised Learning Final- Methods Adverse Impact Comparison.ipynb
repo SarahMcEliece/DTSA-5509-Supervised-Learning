{
 "cells": [
  {
   "cell_type": "code",
   "execution_count": 1,
   "id": "3ca93f52",
   "metadata": {},
   "outputs": [],
   "source": [
    "import numpy as np\n",
    "import matplotlib.pyplot as plt\n",
    "import pandas as pd\n",
    "import seaborn as sn\n",
    "import sklearn\n",
    "from sklearn.model_selection import train_test_split\n",
    "import statsmodels.api as sm\n",
    "from sklearn import metrics"
   ]
  },
  {
   "cell_type": "markdown",
   "id": "98e3701a",
   "metadata": {},
   "source": [
    "# Demonstrating supervised learning methodologies as an intervention for adverse impact in hiring with biased selection tools"
   ]
  },
  {
   "cell_type": "markdown",
   "id": "1f44c1c7",
   "metadata": {},
   "source": [
    "## Problem\n",
    "+ idea of predictive validity\n",
    "+ US based\n",
    "+ define adverse impact, effect sizes(cohens d)\n",
    "+ I/Os are slow to adopt new methodologies\n",
    "+ difficulty of race related research\n",
    "+ goal of minimizing group differences"
   ]
  },
  {
   "cell_type": "markdown",
   "id": "2b526f0a",
   "metadata": {},
   "source": [
    "## About the data\n",
    "+ this is a simulation based on metaanlytic correlations"
   ]
  },
  {
   "cell_type": "markdown",
   "id": "1a7dfe95",
   "metadata": {},
   "source": [
    "## EDA\n",
    "In this case, exploaratory data analysis is largely unnecesary since this is a dataset I constructed based on a literature review. I'll use it to better frame the issue though."
   ]
  },
  {
   "cell_type": "code",
   "execution_count": 2,
   "id": "f9c8c37f",
   "metadata": {},
   "outputs": [],
   "source": [
    "#my dataset created in _url_\n",
    "data = pd.read_csv('sim_AI_dataset.csv')"
   ]
  },
  {
   "cell_type": "code",
   "execution_count": 82,
   "id": "436bdfbf",
   "metadata": {},
   "outputs": [
    {
     "name": "stdout",
     "output_type": "stream",
     "text": [
      "<class 'pandas.core.frame.DataFrame'>\n",
      "RangeIndex: 142857 entries, 0 to 142856\n",
      "Data columns (total 7 columns):\n",
      " #   Column                Non-Null Count   Dtype  \n",
      "---  ------                --------------   -----  \n",
      " 0   Cognitive Ability     142857 non-null  float64\n",
      " 1   Education             142857 non-null  float64\n",
      " 2   Experience            142857 non-null  float64\n",
      " 3   Structured Interview  142857 non-null  float64\n",
      " 4   Conscientiousness     142857 non-null  float64\n",
      " 5   Performance           142857 non-null  float64\n",
      " 6   group                 142857 non-null  int64  \n",
      "dtypes: float64(6), int64(1)\n",
      "memory usage: 7.6 MB\n"
     ]
    }
   ],
   "source": [
    "data.info()\n",
    "#no missing values, all variables are numerical. 'group' is categorical"
   ]
  },
  {
   "cell_type": "code",
   "execution_count": 3,
   "id": "0dd61564",
   "metadata": {},
   "outputs": [],
   "source": [
    "#dropping the previous index\n",
    "data.drop('Unnamed: 0', inplace=True, axis=1)"
   ]
  },
  {
   "cell_type": "markdown",
   "id": "aaff3de4",
   "metadata": {},
   "source": [
    "When building a model to select employees the must common predictor variable is job performance. Other variables like turnover can be used, but it is less common and there is less literature. When I talk about prediction in this project, I am referring to predicting job performance.\n",
    "\n",
    "We have 5 predictor variables. I'll discuss each in turn. All relationships between performance and predictors are based on metaanlytic correlations in Schmidt et al. 2016, I'll put this in my gitlab project if you're interested.\n",
    "\n",
    "Because this is simulated data and all of these variables can be measured on many different scales, I arbitrarily set the population mean=5 and standard deviation=1 for the majority group, then derived the minority population means based on effect sizes documented in the literature. "
   ]
  },
  {
   "cell_type": "code",
   "execution_count": 83,
   "id": "47d8df42",
   "metadata": {},
   "outputs": [
    {
     "data": {
      "text/html": [
       "<div>\n",
       "<style scoped>\n",
       "    .dataframe tbody tr th:only-of-type {\n",
       "        vertical-align: middle;\n",
       "    }\n",
       "\n",
       "    .dataframe tbody tr th {\n",
       "        vertical-align: top;\n",
       "    }\n",
       "\n",
       "    .dataframe thead th {\n",
       "        text-align: right;\n",
       "    }\n",
       "</style>\n",
       "<table border=\"1\" class=\"dataframe\">\n",
       "  <thead>\n",
       "    <tr style=\"text-align: right;\">\n",
       "      <th></th>\n",
       "      <th>Cognitive Ability</th>\n",
       "      <th>Education</th>\n",
       "      <th>Experience</th>\n",
       "      <th>Structured Interview</th>\n",
       "      <th>Conscientiousness</th>\n",
       "      <th>Performance</th>\n",
       "      <th>group</th>\n",
       "    </tr>\n",
       "  </thead>\n",
       "  <tbody>\n",
       "    <tr>\n",
       "      <th>count</th>\n",
       "      <td>142857.000000</td>\n",
       "      <td>142857.000000</td>\n",
       "      <td>142857.000000</td>\n",
       "      <td>142857.000000</td>\n",
       "      <td>142857.000000</td>\n",
       "      <td>142857.000000</td>\n",
       "      <td>142857.000000</td>\n",
       "    </tr>\n",
       "    <tr>\n",
       "      <th>mean</th>\n",
       "      <td>4.784739</td>\n",
       "      <td>4.997192</td>\n",
       "      <td>4.998804</td>\n",
       "      <td>4.906265</td>\n",
       "      <td>5.002314</td>\n",
       "      <td>4.998800</td>\n",
       "      <td>0.299999</td>\n",
       "    </tr>\n",
       "    <tr>\n",
       "      <th>std</th>\n",
       "      <td>1.051571</td>\n",
       "      <td>1.002302</td>\n",
       "      <td>1.000912</td>\n",
       "      <td>1.009893</td>\n",
       "      <td>1.000983</td>\n",
       "      <td>0.999417</td>\n",
       "      <td>0.458259</td>\n",
       "    </tr>\n",
       "    <tr>\n",
       "      <th>min</th>\n",
       "      <td>-0.126445</td>\n",
       "      <td>0.154641</td>\n",
       "      <td>0.431966</td>\n",
       "      <td>0.518082</td>\n",
       "      <td>-0.097069</td>\n",
       "      <td>0.594579</td>\n",
       "      <td>0.000000</td>\n",
       "    </tr>\n",
       "    <tr>\n",
       "      <th>25%</th>\n",
       "      <td>4.077989</td>\n",
       "      <td>4.321539</td>\n",
       "      <td>4.325366</td>\n",
       "      <td>4.225208</td>\n",
       "      <td>4.322711</td>\n",
       "      <td>4.326723</td>\n",
       "      <td>0.000000</td>\n",
       "    </tr>\n",
       "    <tr>\n",
       "      <th>50%</th>\n",
       "      <td>4.787958</td>\n",
       "      <td>4.997714</td>\n",
       "      <td>4.998253</td>\n",
       "      <td>4.909872</td>\n",
       "      <td>5.003235</td>\n",
       "      <td>5.000557</td>\n",
       "      <td>0.000000</td>\n",
       "    </tr>\n",
       "    <tr>\n",
       "      <th>75%</th>\n",
       "      <td>5.501317</td>\n",
       "      <td>5.676376</td>\n",
       "      <td>5.672297</td>\n",
       "      <td>5.585685</td>\n",
       "      <td>5.678019</td>\n",
       "      <td>5.673711</td>\n",
       "      <td>1.000000</td>\n",
       "    </tr>\n",
       "    <tr>\n",
       "      <th>max</th>\n",
       "      <td>9.034405</td>\n",
       "      <td>9.234118</td>\n",
       "      <td>9.149128</td>\n",
       "      <td>9.173655</td>\n",
       "      <td>9.731200</td>\n",
       "      <td>9.326955</td>\n",
       "      <td>1.000000</td>\n",
       "    </tr>\n",
       "  </tbody>\n",
       "</table>\n",
       "</div>"
      ],
      "text/plain": [
       "       Cognitive Ability      Education     Experience  Structured Interview  \\\n",
       "count      142857.000000  142857.000000  142857.000000         142857.000000   \n",
       "mean            4.784739       4.997192       4.998804              4.906265   \n",
       "std             1.051571       1.002302       1.000912              1.009893   \n",
       "min            -0.126445       0.154641       0.431966              0.518082   \n",
       "25%             4.077989       4.321539       4.325366              4.225208   \n",
       "50%             4.787958       4.997714       4.998253              4.909872   \n",
       "75%             5.501317       5.676376       5.672297              5.585685   \n",
       "max             9.034405       9.234118       9.149128              9.173655   \n",
       "\n",
       "       Conscientiousness    Performance          group  \n",
       "count      142857.000000  142857.000000  142857.000000  \n",
       "mean            5.002314       4.998800       0.299999  \n",
       "std             1.000983       0.999417       0.458259  \n",
       "min            -0.097069       0.594579       0.000000  \n",
       "25%             4.322711       4.326723       0.000000  \n",
       "50%             5.003235       5.000557       0.000000  \n",
       "75%             5.678019       5.673711       1.000000  \n",
       "max             9.731200       9.326955       1.000000  "
      ]
     },
     "execution_count": 83,
     "metadata": {},
     "output_type": "execute_result"
    }
   ],
   "source": [
    "data.describe()"
   ]
  },
  {
   "cell_type": "code",
   "execution_count": 111,
   "id": "011aeebb",
   "metadata": {},
   "outputs": [
    {
     "data": {
      "text/plain": [
       "<matplotlib.axes._subplots.AxesSubplot at 0x7fed7da5a550>"
      ]
     },
     "execution_count": 111,
     "metadata": {},
     "output_type": "execute_result"
    },
    {
     "data": {
      "image/png": "[encoded data removed]",
      "text/plain": [
       "<Figure size 432x288 with 2 Axes>"
      ]
     },
     "metadata": {
      "needs_background": "light"
     },
     "output_type": "display_data"
    }
   ],
   "source": [
    "sn.heatmap(data.corr(),annot=True)"
   ]
  },
  {
   "cell_type": "markdown",
   "id": "e3b4f405",
   "metadata": {},
   "source": [
    "#### Cognitive ability\n",
    "Cognitive ability is the best predictor of job performance we have across the board. It has a .65 correlation with performance. In social science research a relationship that strong is exteremely rare. However, selecting on cognitive ability results in disparate impact especially between white and black subgroups. This means that if we only use cognitive ability to choose who to hire, a higher percentage of white applicants will be hired than black applicants. Generally, it is debated whether the cause of the subgroup differences are because cognitive ability is less predicitive for blacks than for whites(called differential validity) or if it is an simply an artifcat of range restriction in the applicant pool. A effect size of up to 1.0 is often observed, in this project I used .72 which was taken from the literature. The minority population(group=1) is 13.4% of the overall population which is the percentage of the US population that is black."
   ]
  },
  {
   "cell_type": "code",
   "execution_count": 100,
   "id": "60e8c12b",
   "metadata": {},
   "outputs": [
    {
     "data": {
      "image/png": "[encoded data removed]",
      "text/plain": [
       "<Figure size 432x288 with 1 Axes>"
      ]
     },
     "metadata": {
      "needs_background": "light"
     },
     "output_type": "display_data"
    }
   ],
   "source": [
    "bins = np.linspace(0, 10, 30)\n",
    "plt.hist([data[data['group']==0]['Cognitive Ability'], data[data['group']==1]['Cognitive Ability']], bins, label=['White', 'Black'])\n",
    "plt.legend(loc='upper right')\n",
    "plt.title('Histogram of cognitive ablility scores by group')\n",
    "plt.ylabel('n')\n",
    "plt.xlabel('Cognitive Ability')\n",
    "plt.show()"
   ]
  },
  {
   "cell_type": "markdown",
   "id": "8006e412",
   "metadata": {},
   "source": [
    "#### Education and Experience\n",
    "Education and experience both are very weak predictors of job performance (r=.1 and r=.16 respectively), yet are very commonly used in hiring which is why I included them in my model. I could not find documentented sub-group differences, so I set the effect size for both as 0. These variables are on the same continuous scale as our other predictors, but how they are measured in practice varies. Sometimes they become categorical variables like 'High school diploma', or number of years of education, etc."
   ]
  },
  {
   "cell_type": "code",
   "execution_count": 102,
   "id": "5f36f9aa",
   "metadata": {},
   "outputs": [
    {
     "data": {
      "image/png": "[encoded data removed]",
      "text/plain": [
       "<Figure size 432x288 with 1 Axes>"
      ]
     },
     "metadata": {
      "needs_background": "light"
     },
     "output_type": "display_data"
    },
    {
     "data": {
      "image/png": "[encoded data removed]",
      "text/plain": [
       "<Figure size 432x288 with 1 Axes>"
      ]
     },
     "metadata": {
      "needs_background": "light"
     },
     "output_type": "display_data"
    }
   ],
   "source": [
    "bins = np.linspace(0, 10, 30)\n",
    "plt.hist([data[data['group']==0]['Education'], data[data['group']==1]['Education']], bins, label=['White', 'Black'])\n",
    "plt.legend(loc='upper right')\n",
    "plt.title('Histogram of education levels by group')\n",
    "plt.ylabel('n')\n",
    "plt.xlabel('Education')\n",
    "plt.show()\n",
    "\n",
    "bins = np.linspace(0, 10, 30)\n",
    "plt.hist([data[data['group']==0]['Experience'], data[data['group']==1]['Experience']], bins, label=['White', 'Black'])\n",
    "plt.legend(loc='upper right')\n",
    "plt.title('Histogram of experience levels by group')\n",
    "plt.ylabel('n')\n",
    "plt.xlabel('Experience')\n",
    "plt.show()"
   ]
  },
  {
   "cell_type": "markdown",
   "id": "2049cb1b",
   "metadata": {},
   "source": [
    "#### Structured Interview\n",
    "A structured interview is essentially an interview with rules placed around it to try and create a similar experience for each candidate. The level of structure can vary- candidataes can all be asked the same set of questions, scoring can be done based on a rubric with anchored scores. Highly structured interviews tend to be less biased and more predictive than unstructured interviews. Yet both interviewers and interviewees tend to dislike them. Sturctured interviews have good predictive validity (r=0.58) yet also have score differnces between white and black subgroups (d=0.31)."
   ]
  },
  {
   "cell_type": "code",
   "execution_count": 103,
   "id": "397280ca",
   "metadata": {},
   "outputs": [
    {
     "data": {
      "image/png": "[encoded data removed]",
      "text/plain": [
       "<Figure size 432x288 with 1 Axes>"
      ]
     },
     "metadata": {
      "needs_background": "light"
     },
     "output_type": "display_data"
    }
   ],
   "source": [
    "bins = np.linspace(0, 10, 30)\n",
    "plt.hist([data[data['group']==0]['Structured Interview'], data[data['group']==1]['Structured Interview']], bins, label=['White', 'Black'])\n",
    "plt.legend(loc='upper right')\n",
    "plt.title('Histogram of structured interview scores by group')\n",
    "plt.ylabel('n')\n",
    "plt.xlabel('Structured Interview Scores')\n",
    "plt.show()"
   ]
  },
  {
   "cell_type": "markdown",
   "id": "17efa135",
   "metadata": {},
   "source": [
    "#### Conscientiousness\n",
    "Conscientiousness is a personality trait that also uniformly predicts performance (r=.22). While it does not nearly have the predictive power as cognitive ability it does not have black-white subgroup differences. Additionally, it is uncorrelated with cognitive ability. Because of these facets, it is often used in combination with cognitive ability to offset some of the group differences while still increacing prediction.  "
   ]
  },
  {
   "cell_type": "markdown",
   "id": "90cd33d4",
   "metadata": {},
   "source": [
    "## Analysis"
   ]
  },
  {
   "cell_type": "code",
   "execution_count": null,
   "id": "2fa1de86",
   "metadata": {},
   "outputs": [],
   "source": [
    "### Methods\n",
    "### Selection Ratios\n",
    "### Evaluation Criteria"
   ]
  },
  {
   "cell_type": "code",
   "execution_count": 114,
   "id": "4ee3c811",
   "metadata": {},
   "outputs": [],
   "source": [
    "ratios = [.05,.1,.3,.5,.8]"
   ]
  },
  {
   "cell_type": "code",
   "execution_count": 115,
   "id": "63dea737",
   "metadata": {},
   "outputs": [],
   "source": [
    "### Creating a baseline with linear regression"
   ]
  },
  {
   "cell_type": "code",
   "execution_count": 116,
   "id": "e180157c",
   "metadata": {},
   "outputs": [],
   "source": [
    "### The first thing I did was to create funct that returns evaluation criteria based on a certail selection ration\n",
    "def evaluate(df, selection_column, group_column='group', selection_ratio=.30):\n",
    "    col_name = str(selection_ratio*100) + 'pct'\n",
    "    #create classes based on selection ratio\n",
    "    df[col_name] = 0\n",
    "    df.loc[eval_df[selection_column] >= 1-selection_ratio, col_name] = 1\n",
    "    \n",
    "    y_test_eval[col_name] = 0\n",
    "    y_test_eval.loc[y_test_eval['Performance']>=1-selection_ratio, col_name] = 1\n",
    "    \n",
    "    #calc group selection ratios and impact ratio\n",
    "    tmp = df.groupby([group_column])[['const',col_name]].sum().reset_index()\n",
    "    selection_pct = tmp[str(selection_ratio*100) + 'pct']/tmp['const']\n",
    "    impactratio = selection_pct[1]/selection_pct[0]\n",
    "\n",
    "    #standard model eval metrics to compare methods\n",
    "    acc = metrics.accuracy_score(y_test_eval[col_name], df[col_name])\n",
    "    #conf_mat = metrics.confusion_matrix(y_test_eval[col_name], df[col_name])\n",
    "    f1 = metrics.f1_score(y_test_eval[col_name], df[col_name])\n",
    "    \n",
    "    #minority selection, majority selection, ratio for adverse impact\n",
    "    return selection_pct[1],selection_pct[0],impactratio,acc,f1#,conf_mat"
   ]
  },
  {
   "cell_type": "code",
   "execution_count": 117,
   "id": "c8037364",
   "metadata": {},
   "outputs": [],
   "source": [
    "#create training and test data\n",
    "X_train, X_test, y_train, y_test = train_test_split(data.loc[:, ~data.columns.isin(['Performance'])], data['Performance'], test_size=0.30)"
   ]
  },
  {
   "cell_type": "code",
   "execution_count": 118,
   "id": "3c0ca641",
   "metadata": {},
   "outputs": [],
   "source": [
    "#this will be used to select the top x% to evaluate later on\n",
    "y_test_eval = pd.DataFrame(y_test.rank(pct=True))"
   ]
  },
  {
   "cell_type": "code",
   "execution_count": 119,
   "id": "2e8dd4b7",
   "metadata": {},
   "outputs": [
    {
     "name": "stdout",
     "output_type": "stream",
     "text": [
      "                            OLS Regression Results                            \n",
      "==============================================================================\n",
      "Dep. Variable:            Performance   R-squared:                       0.634\n",
      "Model:                            OLS   Adj. R-squared:                  0.634\n",
      "Method:                 Least Squares   F-statistic:                 2.883e+04\n",
      "Date:                Sun, 19 Jun 2022   Prob (F-statistic):               0.00\n",
      "Time:                        12:07:48   Log-Likelihood:                -91643.\n",
      "No. Observations:               99999   AIC:                         1.833e+05\n",
      "Df Residuals:                   99992   BIC:                         1.834e+05\n",
      "Df Model:                           6                                         \n",
      "Covariance Type:            nonrobust                                         \n",
      "========================================================================================\n",
      "                           coef    std err          t      P>|t|      [0.025      0.975]\n",
      "----------------------------------------------------------------------------------------\n",
      "const                   -0.1574      0.019     -8.108      0.000      -0.195      -0.119\n",
      "Cognitive Ability        0.4759      0.002    207.498      0.000       0.471       0.480\n",
      "Education                0.0582      0.002     29.327      0.000       0.054       0.062\n",
      "Experience              -0.2008      0.003    -64.509      0.000      -0.207      -0.195\n",
      "Structured Interview     0.5508      0.003    165.194      0.000       0.544       0.557\n",
      "Conscientiousness        0.1470      0.002     70.017      0.000       0.143       0.151\n",
      "group                    0.5149      0.004    117.034      0.000       0.506       0.524\n",
      "==============================================================================\n",
      "Omnibus:                        3.031   Durbin-Watson:                   2.005\n",
      "Prob(Omnibus):                  0.220   Jarque-Bera (JB):                3.035\n",
      "Skew:                           0.009   Prob(JB):                        0.219\n",
      "Kurtosis:                       3.020   Cond. No.                         114.\n",
      "==============================================================================\n",
      "\n",
      "Warnings:\n",
      "[1] Standard Errors assume that the covariance matrix of the errors is correctly specified.\n"
     ]
    }
   ],
   "source": [
    "X_train = sm.add_constant(X_train)\n",
    "model = sm.OLS(y_train, X_train)\n",
    "results = model.fit()\n",
    "print(results.summary())"
   ]
  },
  {
   "cell_type": "code",
   "execution_count": 123,
   "id": "fffab5c7",
   "metadata": {},
   "outputs": [
    {
     "name": "stdout",
     "output_type": "stream",
     "text": [
      "0.05 selection ratio:  Accuracy:  0.95 F1 score:  0.49 Impact ratio:  0.95\n",
      "0.1 selection ratio:  Accuracy:  0.91 F1 score:  0.56 Impact ratio:  0.91\n",
      "0.3 selection ratio:  Accuracy:  0.82 F1 score:  0.7 Impact ratio:  0.82\n",
      "0.5 selection ratio:  Accuracy:  0.79 F1 score:  0.79 Impact ratio:  0.79\n",
      "0.8 selection ratio:  Accuracy:  0.86 F1 score:  0.91 Impact ratio:  0.86\n"
     ]
    }
   ],
   "source": [
    "eval_df = X_test\n",
    "X_test = sm.add_constant(X_test)\n",
    "eval_df['pred_val'] =results.predict(X_test)\n",
    "eval_df['pct_rank'] = eval_df['pred_val'].rank(pct=True)\n",
    "\n",
    "for i in ratios:\n",
    "    e = evaluate(eval_df,'pct_rank', selection_ratio=i)\n",
    "    print(str(i),'selection ratio: ','Accuracy: ',round(e[3],2),'F1 score: ',round(e[4],2),'Impact ratio: ',round(e[3],2))"
   ]
  },
  {
   "cell_type": "markdown",
   "id": "bd9e9370",
   "metadata": {},
   "source": [
    "My first model is purely for illustartation, with all 5 predictors and group we achieve an adjusted r^2 of .633. This is below the theoretical r^2 we would achieve with these predictors based on the literture, but that's not concerning. (In practice, it's always below the literature). All predictors are significant. Interestingly, the coefficient for experience is negative though positively correlated to performance-- I suspect due to high collinearity with other predictors.\n",
    "\n",
    "Moving forward we will not be using group as a predictive variable because it is not representative of actual practice and is part of our evaluation criteria."
   ]
  },
  {
   "cell_type": "code",
   "execution_count": 12,
   "id": "0434d92f",
   "metadata": {},
   "outputs": [
    {
     "name": "stdout",
     "output_type": "stream",
     "text": [
      "                            OLS Regression Results                            \n",
      "==============================================================================\n",
      "Dep. Variable:            Performance   R-squared:                       0.582\n",
      "Model:                            OLS   Adj. R-squared:                  0.582\n",
      "Method:                 Least Squares   F-statistic:                 2.789e+04\n",
      "Date:                Sun, 19 Jun 2022   Prob (F-statistic):               0.00\n",
      "Time:                        09:18:48   Log-Likelihood:                -98140.\n",
      "No. Observations:               99999   AIC:                         1.963e+05\n",
      "Df Residuals:                   99993   BIC:                         1.963e+05\n",
      "Df Model:                           5                                         \n",
      "Covariance Type:            nonrobust                                         \n",
      "========================================================================================\n",
      "                           coef    std err          t      P>|t|      [0.025      0.975]\n",
      "----------------------------------------------------------------------------------------\n",
      "const                    0.3611      0.020     17.940      0.000       0.322       0.401\n",
      "Cognitive Ability        0.4080      0.002    171.985      0.000       0.403       0.413\n",
      "Education                0.0598      0.002     28.215      0.000       0.056       0.064\n",
      "Experience              -0.1961      0.003    -58.990      0.000      -0.203      -0.190\n",
      "Structured Interview     0.5374      0.004    151.088      0.000       0.530       0.544\n",
      "Conscientiousness        0.1459      0.002     65.246      0.000       0.142       0.150\n",
      "==============================================================================\n",
      "Omnibus:                       23.339   Durbin-Watson:                   2.000\n",
      "Prob(Omnibus):                  0.000   Jarque-Bera (JB):               23.354\n",
      "Skew:                           0.037   Prob(JB):                     8.49e-06\n",
      "Kurtosis:                       2.999   Cond. No.                         111.\n",
      "==============================================================================\n",
      "\n",
      "Warnings:\n",
      "[1] Standard Errors assume that the covariance matrix of the errors is correctly specified.\n"
     ]
    }
   ],
   "source": [
    "X_train = sm.add_constant(X_train)\n",
    "model = sm.OLS(y_train, X_train.loc[:, ~X_train.columns.isin(['group'])])\n",
    "results = model.fit()\n",
    "print(results.summary())"
   ]
  },
  {
   "cell_type": "code",
   "execution_count": null,
   "id": "98e0442c",
   "metadata": {},
   "outputs": [],
   "source": [
    "eval_df = X_test\n",
    "X_test = sm.add_constant(X_test)\n",
    "eval_df['pred_val'] =results.predict(X_test.loc[:, ~X_test.columns.isin(['group'])])\n",
    "eval_df['pct_rank'] = eval_df['pred_val'].rank(pct=True)\n",
    "\n",
    "for i in ratios:\n",
    "    e = evaluate(eval_df,'pct_rank', selection_ratio=i)\n",
    "    print(str(i),'selection ratio: ','Accuracy: ',round(e[3],2),'F1 score: ',round(e[4],2),'Impact ratio: ',round(e[3],2))"
   ]
  },
  {
   "cell_type": "markdown",
   "id": "8172ea40",
   "metadata": {},
   "source": [
    "Without group our Adj. R^2 falls to .582 with all of our variables still significant. Now I'll try dropping a few variables based on their correlations with performance."
   ]
  },
  {
   "cell_type": "code",
   "execution_count": 108,
   "id": "e29832d9",
   "metadata": {},
   "outputs": [
    {
     "name": "stdout",
     "output_type": "stream",
     "text": [
      "                            OLS Regression Results                            \n",
      "==============================================================================\n",
      "Dep. Variable:            Performance   R-squared:                       0.579\n",
      "Model:                            OLS   Adj. R-squared:                  0.579\n",
      "Method:                 Least Squares   F-statistic:                 3.439e+04\n",
      "Date:                Sun, 19 Jun 2022   Prob (F-statistic):               0.00\n",
      "Time:                        11:57:23   Log-Likelihood:                -98537.\n",
      "No. Observations:               99999   AIC:                         1.971e+05\n",
      "Df Residuals:                   99994   BIC:                         1.971e+05\n",
      "Df Model:                           4                                         \n",
      "Covariance Type:            nonrobust                                         \n",
      "========================================================================================\n",
      "                           coef    std err          t      P>|t|      [0.025      0.975]\n",
      "----------------------------------------------------------------------------------------\n",
      "const                    0.5628      0.019     29.795      0.000       0.526       0.600\n",
      "Cognitive Ability        0.4124      0.002    173.500      0.000       0.408       0.417\n",
      "Experience              -0.1897      0.003    -56.968      0.000      -0.196      -0.183\n",
      "Structured Interview     0.5286      0.004    148.597      0.000       0.522       0.536\n",
      "Conscientiousness        0.1634      0.002     75.727      0.000       0.159       0.168\n",
      "==============================================================================\n",
      "Omnibus:                       23.425   Durbin-Watson:                   2.001\n",
      "Prob(Omnibus):                  0.000   Jarque-Bera (JB):               23.440\n",
      "Skew:                           0.037   Prob(JB):                     8.13e-06\n",
      "Kurtosis:                       2.998   Cond. No.                         93.1\n",
      "==============================================================================\n",
      "\n",
      "Warnings:\n",
      "[1] Standard Errors assume that the covariance matrix of the errors is correctly specified.\n"
     ]
    }
   ],
   "source": [
    "X_train = sm.add_constant(X_train)\n",
    "model = sm.OLS(y_train, X_train.loc[:, ~X_train.columns.isin(['group','Education'])])\n",
    "results = model.fit()\n",
    "print(results.summary())"
   ]
  },
  {
   "cell_type": "code",
   "execution_count": null,
   "id": "7010b21f",
   "metadata": {},
   "outputs": [],
   "source": [
    "eval_df = X_test\n",
    "X_test = sm.add_constant(X_test)\n",
    "eval_df['pred_val'] =results.predict(X_test.loc[:, ~X_test.columns.isin(['group','Education'])])\n",
    "eval_df['pct_rank'] = eval_df['pred_val'].rank(pct=True)\n",
    "\n",
    "for i in ratios:\n",
    "    e = evaluate(eval_df,'pct_rank', selection_ratio=i)\n",
    "    print(str(i),'selection ratio: ','Accuracy: ',round(e[3],2),'F1 score: ',round(e[4],2),'Impact ratio: ',round(e[3],2))"
   ]
  },
  {
   "cell_type": "code",
   "execution_count": 106,
   "id": "8fe476fd",
   "metadata": {},
   "outputs": [
    {
     "name": "stdout",
     "output_type": "stream",
     "text": [
      "                            OLS Regression Results                            \n",
      "==============================================================================\n",
      "Dep. Variable:            Performance   R-squared:                       0.565\n",
      "Model:                            OLS   Adj. R-squared:                  0.565\n",
      "Method:                 Least Squares   F-statistic:                 4.337e+04\n",
      "Date:                Sun, 19 Jun 2022   Prob (F-statistic):               0.00\n",
      "Time:                        11:57:00   Log-Likelihood:            -1.0013e+05\n",
      "No. Observations:               99999   AIC:                         2.003e+05\n",
      "Df Residuals:                   99995   BIC:                         2.003e+05\n",
      "Df Model:                           3                                         \n",
      "Covariance Type:            nonrobust                                         \n",
      "========================================================================================\n",
      "                           coef    std err          t      P>|t|      [0.025      0.975]\n",
      "----------------------------------------------------------------------------------------\n",
      "const                   -0.0604      0.016     -3.862      0.000      -0.091      -0.030\n",
      "Cognitive Ability        0.4777      0.002    225.755      0.000       0.474       0.482\n",
      "Structured Interview     0.3690      0.002    165.624      0.000       0.365       0.373\n",
      "Conscientiousness        0.1926      0.002     90.423      0.000       0.188       0.197\n",
      "==============================================================================\n",
      "Omnibus:                       23.814   Durbin-Watson:                   2.001\n",
      "Prob(Omnibus):                  0.000   Jarque-Bera (JB):               23.822\n",
      "Skew:                           0.038   Prob(JB):                     6.72e-06\n",
      "Kurtosis:                       3.004   Cond. No.                         65.2\n",
      "==============================================================================\n",
      "\n",
      "Warnings:\n",
      "[1] Standard Errors assume that the covariance matrix of the errors is correctly specified.\n"
     ]
    }
   ],
   "source": [
    "X_train = sm.add_constant(X_train)\n",
    "model = sm.OLS(y_train, X_train.loc[:, ~X_train.columns.isin(['group','Education','Experience'])])\n",
    "results = model.fit()\n",
    "print(results.summary())"
   ]
  },
  {
   "cell_type": "code",
   "execution_count": null,
   "id": "d4acca42",
   "metadata": {},
   "outputs": [],
   "source": [
    "eval_df = X_test\n",
    "X_test = sm.add_constant(X_test)\n",
    "eval_df['pred_val'] =results.predict(X_test.loc[:, ~X_test.columns.isin(['group','Education','Experience'])])\n",
    "eval_df['pct_rank'] = eval_df['pred_val'].rank(pct=True)\n",
    "\n",
    "for i in ratios:\n",
    "    e = evaluate(eval_df,'pct_rank', selection_ratio=i)\n",
    "    print(str(i),'selection ratio: ','Accuracy: ',round(e[3],2),'F1 score: ',round(e[4],2),'Impact ratio: ',round(e[3],2))"
   ]
  },
  {
   "cell_type": "markdown",
   "id": "605ac8ff",
   "metadata": {},
   "source": [
    "In practice I would "
   ]
  },
  {
   "cell_type": "markdown",
   "id": "84f48481",
   "metadata": {},
   "source": [
    "#### Linear regression model summary"
   ]
  },
  {
   "cell_type": "code",
   "execution_count": null,
   "id": "3377bccc",
   "metadata": {},
   "outputs": [],
   "source": [
    "## Decision Trees"
   ]
  },
  {
   "cell_type": "code",
   "execution_count": null,
   "id": "bae9a4ab",
   "metadata": {},
   "outputs": [],
   "source": [
    "## Boosting"
   ]
  },
  {
   "cell_type": "code",
   "execution_count": null,
   "id": "ea9b3b11",
   "metadata": {},
   "outputs": [],
   "source": []
  },
  {
   "cell_type": "code",
   "execution_count": null,
   "id": "839131e9",
   "metadata": {},
   "outputs": [],
   "source": []
  },
  {
   "cell_type": "code",
   "execution_count": null,
   "id": "9284b52c",
   "metadata": {},
   "outputs": [],
   "source": []
  },
  {
   "cell_type": "code",
   "execution_count": null,
   "id": "e15f3e08",
   "metadata": {},
   "outputs": [],
   "source": []
  }
 ],
 "metadata": {
  "kernelspec": {
   "display_name": "Python 3",
   "language": "python",
   "name": "python3"
  },
  "language_info": {
   "codemirror_mode": {
    "name": "ipython",
    "version": 3
   },
   "file_extension": ".py",
   "mimetype": "text/x-python",
   "name": "python",
   "nbconvert_exporter": "python",
   "pygments_lexer": "ipython3",
   "version": "3.6.10"
  }
 },
 "nbformat": 4,
 "nbformat_minor": 5
}
